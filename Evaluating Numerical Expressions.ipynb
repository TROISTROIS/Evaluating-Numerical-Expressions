{
 "cells": [
  {
   "cell_type": "markdown",
   "metadata": {
    "collapsed": true
   },
   "source": [
    "# Evaluating Numerical Expressions\n",
    "In this project,we will use stacks to implement an algorithm that can evaluate numerical expressions. "
   ]
  },
  {
   "cell_type": "code",
   "execution_count": 121,
   "metadata": {},
   "outputs": [],
   "source": [
    "from linked_list import LinkedList"
   ]
  },
  {
   "cell_type": "code",
   "execution_count": 122,
   "metadata": {},
   "outputs": [],
   "source": [
    "class Stack(LinkedList):\n",
    "    def push(self, data):\n",
    "        self.append(data)\n",
    "    def peek(self):\n",
    "        return self.tail.data\n",
    "    def pop(self):\n",
    "        ret = self.tail.data\n",
    "        if self.length == 1:\n",
    "            self.tail = self.head = None\n",
    "        else:\n",
    "            self.tail = self.tail.prev\n",
    "            self.tail.next = None\n",
    "        self.length -= 1\n",
    "        return ret"
   ]
  },
  {
   "cell_type": "markdown",
   "metadata": {},
   "source": [
    "For a computer, it's much easier to evaluate an expression written in postfix notation. In postfix notation, the operands appear before the operator. The infix expression **1 + 2** becomes **1 2 +** in postfix notation.\n",
    "We can evaluate an expression in postfix notation using a stack. We read the expression from left to right and do the following:\n",
    "\n",
    "1. If we find a number, we push that number to the top of the stack.\n",
    "2. If we find an operator, we pop the top two elements of the stack, perform the operation, and then push back the result.\n",
    "\n",
    "After processing the entire expression, there will be a single element on the stack. This value is the result of the operation.\n",
    "\n",
    "Let's implement a function *evaluate_postfix()* that evaluates an expression in postfix notation. To simplify the function, we will assume that, in the expression string we want to evaluate, there are spaces between all elements of the expression. Based on this assumption, we can transform the postfix expression string into a list of elements using the **str.split()** method, like so:\n",
    "**expression = \"12 2 4 + / 21 *\"\n",
    " elements = expression.split()\n",
    " print(elements)**\n",
    "\n",
    "In the context of evaluating expressions, we call these elements **tokens**, and the term for transforming the expression into a list of tokens is **tokenize**. "
   ]
  },
  {
   "cell_type": "code",
   "execution_count": 123,
   "metadata": {},
   "outputs": [
    {
     "name": "stdout",
     "output_type": "stream",
     "text": [
      "['12', '2', '4', '+', '/', '21', '*']\n"
     ]
    }
   ],
   "source": [
    "# function that tokenizes a postfix expression\n",
    "def tokenize(expression):\n",
    "    tokens = expression.split( )\n",
    "    return tokens\n",
    "print(tokenize(\"12 2 4 + / 21 *\"))"
   ]
  },
  {
   "cell_type": "markdown",
   "metadata": {},
   "source": [
    "There is one important detail we need to consider in the second step. When we find an operator, we pop the top two values on the top of the stack. When we apply the operator to those two elements, we need to make sure we operate those two numbers in the correct order.\n",
    "\n",
    "Consider the expression **1 - 2**. We need to subtract 2 from 1 and not the other way around. The element at the top of the stack is actually the second operand in the expression, while the element that is second to top is the first operand. "
   ]
  },
  {
   "cell_type": "code",
   "execution_count": 124,
   "metadata": {},
   "outputs": [],
   "source": [
    "def process_minus(stack):\n",
    "    top = stack.pop()\n",
    "    second_to_top = stack.pop()\n",
    "    result = second_to_top - top\n",
    "    stack.push(result)"
   ]
  },
  {
   "cell_type": "code",
   "execution_count": 125,
   "metadata": {},
   "outputs": [],
   "source": [
    "def process_plus(stack):\n",
    "    top = stack.pop()\n",
    "    second_to_top = stack.pop()\n",
    "    result = second_to_top + top\n",
    "    stack.push(result)"
   ]
  },
  {
   "cell_type": "code",
   "execution_count": 126,
   "metadata": {},
   "outputs": [],
   "source": [
    "def process_times(stack):\n",
    "    top = stack.pop()\n",
    "    second_to_top = stack.pop()\n",
    "    result = second_to_top * top\n",
    "    stack.push(result)"
   ]
  },
  {
   "cell_type": "code",
   "execution_count": 127,
   "metadata": {},
   "outputs": [],
   "source": [
    "def process_divide(stack):\n",
    "    top = stack.pop()\n",
    "    second_to_top = stack.pop()\n",
    "    result = second_to_top / top\n",
    "    stack.push(result)"
   ]
  },
  {
   "cell_type": "code",
   "execution_count": 128,
   "metadata": {},
   "outputs": [],
   "source": [
    "def process_pow(stack):\n",
    "    top = stack.pop()\n",
    "    second_to_top = stack.pop()\n",
    "    result = second_to_top ** top\n",
    "    stack.push(result)"
   ]
  },
  {
   "cell_type": "markdown",
   "metadata": {},
   "source": [
    "# Evaluating Postfix Expressions\n",
    "We can now implement an algorithm to evaluate an expression in postfix notation. To do so, we need to do the following:\n",
    "\n",
    "1. Tokenize the expression using the tokenize() function\n",
    "2. Initialize an empty stack\n",
    "3. For each token, do the following:\n",
    "    1.1. If the token is an operator, call the corresponding function to process it. For example, if we find a +, we call the process_plus() function.\n",
    "    1.2. Otherwise (the token is a number) we push that number to the top of the stack. Since each token is a string, we'll need to convert it to a float first.\n",
    "4. Return the value that is left in the stack."
   ]
  },
  {
   "cell_type": "code",
   "execution_count": 129,
   "metadata": {},
   "outputs": [],
   "source": [
    "def evaluate_postfix(expression):\n",
    "    tokens = tokenize(expression)\n",
    "    stack = Stack()\n",
    "    for token in tokens:\n",
    "        if token == \"+\":\n",
    "            process_plus(stack)\n",
    "        elif token == \"-\":\n",
    "            process_minus(stack)\n",
    "        elif token == \"*\":\n",
    "            process_times(stack)\n",
    "        elif token == \"/\":\n",
    "            process_divide(stack)\n",
    "        elif token == \"**\":\n",
    "            process_pow(stack)\n",
    "        else:\n",
    "            # The token is not an operator so it must be a number\n",
    "            stack.push(float(token))\n",
    "    return stack.pop()  "
   ]
  },
  {
   "cell_type": "code",
   "execution_count": 130,
   "metadata": {},
   "outputs": [
    {
     "name": "stdout",
     "output_type": "stream",
     "text": [
      "-2.0\n",
      "8.0\n",
      "0.0\n",
      "2.0\n",
      "11.25\n",
      "45.0\n",
      "42.0\n",
      "4.0\n",
      "2.0\n"
     ]
    }
   ],
   "source": [
    "expressions = [\n",
    "    \"4 6 -\",\n",
    "    \"4 1 2 9 3 / * + 5 - *\",\n",
    "    \"1 2 + 3 -\",\n",
    "    \"1 2 - 3 +\",\n",
    "    \"10 3 5 * 16 4 - / +\",\n",
    "    \"5 3 4 2 - ** *\",\n",
    "    \"12 2 4 + / 21 *\",\n",
    "    \"1 1 + 2 **\",\n",
    "    \"1 1 2 ** +\"\n",
    "]\n",
    "for expression in expressions:\n",
    "    print(evaluate_postfix(expression))"
   ]
  },
  {
   "cell_type": "markdown",
   "metadata": {},
   "source": [
    "# Operator Precedence in Infix Notation\n",
    "\n",
    "We can now evaluate postfix expressions! But to make this project useful, we need to enable our algorithm to evaluate expressions in infix notation. After all, it would be very annoying to have to write expressions in postfix notation to use our algorithm.\n",
    "\n",
    "Like before, to simplify tokenizing the expression, we'll assume that the infix expression string contains spaces between any two tokens (even the parentheses).This means that we can tokenize the expression using the **tokenize()** function we implemented before. \n",
    "\n",
    "To convert an expression from infix to postfix, we'll implement the <a href=\"https://en.wikipedia.org/wiki/Shunting_yard_algorithm\" target=\"_blank\" rel=\"noopener\">Shunting-yard algorithm</a> . The data structure to implement this algorithm is (again) a stack.\n",
    "\n",
    "We need to do some prep work before we start describing and implementing the algorithm. In an expression in infix notation, the operation precedence rules define the order in which we perform the operations. For example, in the expression 4 + 2 * 3, we first need to perform the multiplication and only then the addition.\n",
    "\n",
    "If operators have the same precedence, they are evaluated in the order they appear. For example, in 1 - 2 + 3, we do - and then +, but in 1 + 2 - 3, we do + and then -.\n",
    "\n",
    "In short, the + and - have the same precedence, the * and / have the same precedence and higher precedence than + and -, and the ** has the highest precedence of all.\n",
    "\n",
    "In the Shunting-yard algorithm, we'll need to compare the precedence of the operators. We will use numbers to represent the operator precedence. The higher the precedence, the higher the number (+ and - = 1,  * and / = 2, ** = 3).\n",
    "\n",
    "If we store the precedence table in a dictionary named precedence with keys equal to the operators and values equal to the precedence numbers, we can check whether an operator has lower precedence than another operator.\n"
   ]
  },
  {
   "cell_type": "code",
   "execution_count": 131,
   "metadata": {},
   "outputs": [
    {
     "name": "stdout",
     "output_type": "stream",
     "text": [
      "False\n",
      "True\n",
      "False\n",
      "True\n"
     ]
    }
   ],
   "source": [
    "precedence = {\n",
    "    \"+\": 1,\n",
    "    \"-\": 1,\n",
    "    \"*\": 2,\n",
    "    \"/\": 2,\n",
    "    \"**\": 3\n",
    "}\n",
    "\n",
    "print(precedence[\"/\"] < precedence[\"-\"])\n",
    "print(precedence[\"+\"] < precedence[\"*\"])\n",
    "print(precedence[\"+\"] < precedence[\"-\"])\n",
    "print(precedence[\"/\"] < precedence[\"**\"])"
   ]
  },
  {
   "cell_type": "markdown",
   "metadata": {},
   "source": [
    "# From Infix to Postfix\n",
    "We'll implement a function **infix_to_postfix()** that, given a string with an expression in infix notation, outputs a string with that expression written in postfix notation. This function will implement the <a href=\"https://en.wikipedia.org/wiki/Shunting_yard_algorithm\" target=\"_blank\" rel=\"noopener\">Shunting-yard algorithm </a>. This algorithm is similar to the **evaluate_postfix()** function we've implemented before. It starts by tokenizing the postfix expression, and then it processes the tokens one by one using a stack. It builds the postfix expression by keeping track of a list named postfix, which will contain the list of tokens in postfix order.\n",
    "\n",
    "Here's how processing should go for each token:\n",
    "\n",
    "1. Opening parenthesis, (:\n",
    "    - Push the token into the stack for later use when we find a closing parenthesis.\n",
    "2. Closing parenthesis ):\n",
    "    - While the top of the stack isn't an opening parenthesis, (, pop the top element, and append it to the postfix token list.\n",
    "    - Pop the opening parentheses out of the stack at the end.\n",
    "3. Operator, +, -, *, /, or '**': \n",
    "    - While the top of the stack is also an operator with a precedence greater than or equal to this operator, pop the top element, and append it to the postfix token list.\n",
    "    - Push the current operator to the top of the stack\n",
    "4. Operand (any number):\n",
    "    - Append the number to the postfix token list.\n",
    "\n",
    "After having processed all tokens, the stack may not be empty. In this case we pop all remaining operators into the postfix list."
   ]
  },
  {
   "cell_type": "markdown",
   "metadata": {},
   "source": [
    "# Opening parenthesis\n",
    "- Opening parentheses,**(**:\n",
    "Push the token into the stack. It will be used later when we find a closing parenthesis."
   ]
  },
  {
   "cell_type": "code",
   "execution_count": 132,
   "metadata": {},
   "outputs": [],
   "source": [
    "# push the string \"(\" into the stack\n",
    "def process_opening_parenthesis(stack):\n",
    "    stack.push(\"(\")    "
   ]
  },
  {
   "cell_type": "markdown",
   "metadata": {},
   "source": [
    "# Closing Parentheses\n",
    "- Closing parenthesis **)**:\n",
    "1. While the top of the stack isn't an opening parenthesis,**(**, pop the top element, and append it to the **postfix** token list.\n",
    "2. Pop the opening parentheses out of the stack at the end."
   ]
  },
  {
   "cell_type": "code",
   "execution_count": 133,
   "metadata": {},
   "outputs": [],
   "source": [
    "def process_closing_parenthesis(stack, postfix):\n",
    "#     while the top element of the stack is not an opening parenthesis,\n",
    "    while stack.peek() != \"(\":\n",
    "        postfix.append(stack.pop())\n",
    "#     pop the top element of the stack(()\n",
    "    stack.pop()"
   ]
  },
  {
   "cell_type": "markdown",
   "metadata": {},
   "source": [
    "# Handling Operators\n",
    "- Operator, +, -, *, / or **:\n",
    "1. While the top of the stack is also an operator with a precedence greater than or equal to this operator, pop the top element and append it to the postfix token list.\n",
    "2. Push the current operator to the top of the stack.\n",
    "\n",
    "Here, we see again that we need to use a while loop. The condition of the while loop needs to check that the top of the stack is an operator and that its precedence is greater than or equal to the precedence of the operator we're processing.\n",
    "\n",
    "We can get the top of the stack (without removing it) using the Stack.peek() function. However, we first need to ensure that the stack isn't empty, or it will cause an error.\n",
    "\n",
    "Earlier, we defined a dictionary named precedence to compare the precedence of two operators. "
   ]
  },
  {
   "cell_type": "code",
   "execution_count": 134,
   "metadata": {},
   "outputs": [],
   "source": [
    "def process_operator(stack, postfix, operator):\n",
    "    while len(stack) > 0 and stack.peek() in precedence and precedence[stack.peek()] >= precedence[operator]:\n",
    "    # Pop the top of the stack into the postfix list\n",
    "        postfix.append(stack.pop())\n",
    "#     push the operator into the stack\n",
    "    stack.push(operator)"
   ]
  },
  {
   "cell_type": "markdown",
   "metadata": {},
   "source": [
    "# Handling Numbers\n",
    "- Operand (any number):\n",
    "1. Push the token into the postfix token list."
   ]
  },
  {
   "cell_type": "code",
   "execution_count": 135,
   "metadata": {},
   "outputs": [],
   "source": [
    "def process_number(postfix, number):\n",
    "    postfix.append(number)"
   ]
  },
  {
   "cell_type": "markdown",
   "metadata": {},
   "source": [
    "# Implementing the Shunting-yard Algorithm\n",
    "\n",
    "We now have all the pieces we need to implement the infix_to_postfix() function that converts an expression from infix notation to postfix notation.\n",
    "\n",
    "This function will work as follows:\n",
    "\n",
    "1. We start by splitting the expression into tokens using the tokenize() function.\n",
    "2. We initialize an empty stack.\n",
    "3. We initialize an empty postfix token list.\n",
    "4. Iterate over all tokens, and for each, do the following:\n",
    "    - If the token is \"(\", we call the process_opening_parenthesis() function.\n",
    "    - If the token is \")\", we call the process_closing_parenthesis() function.\n",
    "    - If the token is an operator, we call the process_operator() function.\n",
    "    - Otherwise, the token is a number, and we call the process_number() function.\n",
    "5. After processing all tokens, we use a while loop to pop the remaining stack element into the postfix token list.\n",
    "6. Use the str.join() method to convert the postfix token list into a string."
   ]
  },
  {
   "cell_type": "code",
   "execution_count": 136,
   "metadata": {},
   "outputs": [],
   "source": [
    "def infix_to_postfix(expression):\n",
    "    tokens = tokenize(expression)\n",
    "    stack = Stack()\n",
    "    postfix = []\n",
    "    for token in tokens:\n",
    "        if token == \"(\":\n",
    "            process_opening_parenthesis(stack)\n",
    "        elif token == \")\":\n",
    "            process_closing_parenthesis(stack, postfix)\n",
    "        elif token in precedence:\n",
    "            process_operator(stack, postfix, token)\n",
    "        else:\n",
    "            process_number(postfix, token)\n",
    "    while len(stack) > 0:\n",
    "        postfix.append(stack.pop())\n",
    "    return \" \".join(postfix)"
   ]
  },
  {
   "cell_type": "markdown",
   "metadata": {},
   "source": [
    "# Evaluating Infix expressions\n",
    "We now have a function that can transform an infix expression into postfix notation and a function that can evaluate an expression in postfix notation. By combining the two, we can write a function named **evaluate()** that returns the value of an expression in infix notation."
   ]
  },
  {
   "cell_type": "code",
   "execution_count": 137,
   "metadata": {},
   "outputs": [],
   "source": [
    "def evaluate(expression):\n",
    "    postfix_expression = infix_to_postfix(expression)\n",
    "    return evaluate_postfix(postfix_expression)"
   ]
  },
  {
   "cell_type": "code",
   "execution_count": 138,
   "metadata": {},
   "outputs": [
    {
     "name": "stdout",
     "output_type": "stream",
     "text": [
      "2.0\n",
      "0.0\n",
      "8.0\n",
      "11.25\n",
      "256.0\n",
      "65536.0\n",
      "0.5\n",
      "9.0\n",
      "1.0\n"
     ]
    }
   ],
   "source": [
    "expressions = [\n",
    "    \"1 + 1\",\n",
    "    \"1 * ( 2 - ( 1 + 1 ) )\",\n",
    "    \"4 * ( 1 + 2 * ( 9 / 3 ) - 5 )\",\n",
    "    \"10 + 3 * 5 / ( 16 - 4 * 1 )\",\n",
    "    \"2 * 2 * 2 * 2 * 2 * 2 * 2 * 2\",\n",
    "    \"2 ** 2 ** 2 ** 2 ** 2\",\n",
    "    \"( 1 - 2 ) / ( 3 - 5 )\",\n",
    "    \"9 / 8 * 8\",\n",
    "    \"64 / ( 8 * 8 )\",\n",
    "]\n",
    "\n",
    "for expression in expressions:\n",
    "    print(evaluate(expression))"
   ]
  },
  {
   "cell_type": "code",
   "execution_count": null,
   "metadata": {},
   "outputs": [],
   "source": []
  }
 ],
 "metadata": {
  "kernelspec": {
   "display_name": "Python 3",
   "language": "python",
   "name": "python3"
  },
  "language_info": {
   "codemirror_mode": {
    "name": "ipython",
    "version": 3
   },
   "file_extension": ".py",
   "mimetype": "text/x-python",
   "name": "python",
   "nbconvert_exporter": "python",
   "pygments_lexer": "ipython3",
   "version": "3.8.2"
  }
 },
 "nbformat": 4,
 "nbformat_minor": 1
}
